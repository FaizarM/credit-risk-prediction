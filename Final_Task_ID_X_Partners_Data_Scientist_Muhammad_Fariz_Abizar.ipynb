{
  "nbformat": 4,
  "nbformat_minor": 0,
  "metadata": {
    "colab": {
      "provenance": [],
      "mount_file_id": "1IRPyJ5S_osM7EJoExhIjWd1cG4srlYo1",
      "authorship_tag": "ABX9TyP4eHi2lSJhLT0bzldlJEaR",
      "include_colab_link": true
    },
    "kernelspec": {
      "name": "python3",
      "display_name": "Python 3"
    },
    "language_info": {
      "name": "python"
    }
  },
  "cells": [
    {
      "cell_type": "markdown",
      "metadata": {
        "id": "view-in-github",
        "colab_type": "text"
      },
      "source": [
        "<a href=\"https://colab.research.google.com/github/FaizarM/credit-risk-prediction/blob/main/Final_Task_ID_X_Partners_Data_Scientist_Muhammad_Fariz_Abizar.ipynb\" target=\"_parent\"><img src=\"https://colab.research.google.com/assets/colab-badge.svg\" alt=\"Open In Colab\"/></a>"
      ]
    },
    {
      "cell_type": "code",
      "execution_count": null,
      "metadata": {
        "id": "LnUr3_XjCMPc",
        "colab": {
          "base_uri": "https://localhost:8080/"
        },
        "outputId": "af6eebdf-3f20-43bd-942a-85423f05735a"
      },
      "outputs": [
        {
          "output_type": "stream",
          "name": "stderr",
          "text": [
            "/tmp/ipython-input-3401124338.py:6: DtypeWarning: Columns (20) have mixed types. Specify dtype option on import or set low_memory=False.\n",
            "  df = pd.read_csv(\"loan_data_2007_2014.csv\")\n"
          ]
        },
        {
          "output_type": "stream",
          "name": "stdout",
          "text": [
            "Jumlah baris dan kolom: (466285, 75)\n",
            "<class 'pandas.core.frame.DataFrame'>\n",
            "RangeIndex: 466285 entries, 0 to 466284\n",
            "Data columns (total 75 columns):\n",
            " #   Column                       Non-Null Count   Dtype  \n",
            "---  ------                       --------------   -----  \n",
            " 0   Unnamed: 0                   466285 non-null  int64  \n",
            " 1   id                           466285 non-null  int64  \n",
            " 2   member_id                    466285 non-null  int64  \n",
            " 3   loan_amnt                    466285 non-null  int64  \n",
            " 4   funded_amnt                  466285 non-null  int64  \n",
            " 5   funded_amnt_inv              466285 non-null  float64\n",
            " 6   term                         466285 non-null  object \n",
            " 7   int_rate                     466285 non-null  float64\n",
            " 8   installment                  466285 non-null  float64\n",
            " 9   grade                        466285 non-null  object \n",
            " 10  sub_grade                    466285 non-null  object \n",
            " 11  emp_title                    438697 non-null  object \n",
            " 12  emp_length                   445277 non-null  object \n",
            " 13  home_ownership               466285 non-null  object \n",
            " 14  annual_inc                   466281 non-null  float64\n",
            " 15  verification_status          466285 non-null  object \n",
            " 16  issue_d                      466285 non-null  object \n",
            " 17  loan_status                  466285 non-null  object \n",
            " 18  pymnt_plan                   466285 non-null  object \n",
            " 19  url                          466285 non-null  object \n",
            " 20  desc                         125981 non-null  object \n",
            " 21  purpose                      466285 non-null  object \n",
            " 22  title                        466264 non-null  object \n",
            " 23  zip_code                     466285 non-null  object \n",
            " 24  addr_state                   466285 non-null  object \n",
            " 25  dti                          466285 non-null  float64\n",
            " 26  delinq_2yrs                  466256 non-null  float64\n",
            " 27  earliest_cr_line             466256 non-null  object \n",
            " 28  inq_last_6mths               466256 non-null  float64\n",
            " 29  mths_since_last_delinq       215934 non-null  float64\n",
            " 30  mths_since_last_record       62638 non-null   float64\n",
            " 31  open_acc                     466256 non-null  float64\n",
            " 32  pub_rec                      466256 non-null  float64\n",
            " 33  revol_bal                    466285 non-null  int64  \n",
            " 34  revol_util                   465945 non-null  float64\n",
            " 35  total_acc                    466256 non-null  float64\n",
            " 36  initial_list_status          466285 non-null  object \n",
            " 37  out_prncp                    466285 non-null  float64\n",
            " 38  out_prncp_inv                466285 non-null  float64\n",
            " 39  total_pymnt                  466285 non-null  float64\n",
            " 40  total_pymnt_inv              466285 non-null  float64\n",
            " 41  total_rec_prncp              466285 non-null  float64\n",
            " 42  total_rec_int                466285 non-null  float64\n",
            " 43  total_rec_late_fee           466285 non-null  float64\n",
            " 44  recoveries                   466285 non-null  float64\n",
            " 45  collection_recovery_fee      466285 non-null  float64\n",
            " 46  last_pymnt_d                 465909 non-null  object \n",
            " 47  last_pymnt_amnt              466285 non-null  float64\n",
            " 48  next_pymnt_d                 239071 non-null  object \n",
            " 49  last_credit_pull_d           466243 non-null  object \n",
            " 50  collections_12_mths_ex_med   466140 non-null  float64\n",
            " 51  mths_since_last_major_derog  98974 non-null   float64\n",
            " 52  policy_code                  466285 non-null  int64  \n",
            " 53  application_type             466285 non-null  object \n",
            " 54  annual_inc_joint             0 non-null       float64\n",
            " 55  dti_joint                    0 non-null       float64\n",
            " 56  verification_status_joint    0 non-null       float64\n",
            " 57  acc_now_delinq               466256 non-null  float64\n",
            " 58  tot_coll_amt                 396009 non-null  float64\n",
            " 59  tot_cur_bal                  396009 non-null  float64\n",
            " 60  open_acc_6m                  0 non-null       float64\n",
            " 61  open_il_6m                   0 non-null       float64\n",
            " 62  open_il_12m                  0 non-null       float64\n",
            " 63  open_il_24m                  0 non-null       float64\n",
            " 64  mths_since_rcnt_il           0 non-null       float64\n",
            " 65  total_bal_il                 0 non-null       float64\n",
            " 66  il_util                      0 non-null       float64\n",
            " 67  open_rv_12m                  0 non-null       float64\n",
            " 68  open_rv_24m                  0 non-null       float64\n",
            " 69  max_bal_bc                   0 non-null       float64\n",
            " 70  all_util                     0 non-null       float64\n",
            " 71  total_rev_hi_lim             396009 non-null  float64\n",
            " 72  inq_fi                       0 non-null       float64\n",
            " 73  total_cu_tl                  0 non-null       float64\n",
            " 74  inq_last_12m                 0 non-null       float64\n",
            "dtypes: float64(46), int64(7), object(22)\n",
            "memory usage: 266.8+ MB\n"
          ]
        }
      ],
      "source": [
        "import pandas as pd\n",
        "import matplotlib.pyplot as plt\n",
        "import seaborn as sns\n",
        "\n",
        "# Load dataset\n",
        "df = pd.read_csv(\"loan_data_2007_2014.csv\")\n",
        "\n",
        "print(\"Jumlah baris dan kolom:\", df.shape)\n",
        "df.info()\n"
      ]
    },
    {
      "cell_type": "code",
      "source": [
        "# Hitung missing values\n",
        "missing = df.isnull().sum()\n",
        "missing_percent = (missing / len(df)) * 100\n",
        "missing_df = pd.DataFrame({\"missing_values\": missing, \"percent\": missing_percent})\n",
        "missing_df = missing_df[missing_df[\"missing_values\"] > 0].sort_values(by=\"missing_values\", ascending=False)\n",
        "\n",
        "# Tampilkan 15 kolom dengan missing terbanyak\n",
        "missing_df.head(15)\n",
        "\n",
        "# Visualisasi missing values\n",
        "plt.figure(figsize=(10,5))\n",
        "sns.barplot(y=missing_df.head(15).index, x=missing_df.head(15)[\"percent\"], color=\"salmon\")\n",
        "plt.title(\"Top 15 Kolom dengan Missing Values (%)\")\n",
        "plt.xlabel(\"Persentase Missing\")\n",
        "plt.ylabel(\"Kolom\")\n",
        "plt.show()\n"
      ],
      "metadata": {
        "colab": {
          "base_uri": "https://localhost:8080/",
          "height": 219
        },
        "id": "7LJLEkTwRpte",
        "outputId": "23eaee6a-4d8c-4283-d5eb-c078d645dd32"
      },
      "execution_count": null,
      "outputs": [
        {
          "output_type": "error",
          "ename": "NameError",
          "evalue": "name 'df' is not defined",
          "traceback": [
            "\u001b[0;31m---------------------------------------------------------------------------\u001b[0m",
            "\u001b[0;31mNameError\u001b[0m                                 Traceback (most recent call last)",
            "\u001b[0;32m/tmp/ipython-input-3439448729.py\u001b[0m in \u001b[0;36m<cell line: 0>\u001b[0;34m()\u001b[0m\n\u001b[1;32m      1\u001b[0m \u001b[0;31m# Hitung missing values\u001b[0m\u001b[0;34m\u001b[0m\u001b[0;34m\u001b[0m\u001b[0m\n\u001b[0;32m----> 2\u001b[0;31m \u001b[0mmissing\u001b[0m \u001b[0;34m=\u001b[0m \u001b[0mdf\u001b[0m\u001b[0;34m.\u001b[0m\u001b[0misnull\u001b[0m\u001b[0;34m(\u001b[0m\u001b[0;34m)\u001b[0m\u001b[0;34m.\u001b[0m\u001b[0msum\u001b[0m\u001b[0;34m(\u001b[0m\u001b[0;34m)\u001b[0m\u001b[0;34m\u001b[0m\u001b[0;34m\u001b[0m\u001b[0m\n\u001b[0m\u001b[1;32m      3\u001b[0m \u001b[0mmissing_percent\u001b[0m \u001b[0;34m=\u001b[0m \u001b[0;34m(\u001b[0m\u001b[0mmissing\u001b[0m \u001b[0;34m/\u001b[0m \u001b[0mlen\u001b[0m\u001b[0;34m(\u001b[0m\u001b[0mdf\u001b[0m\u001b[0;34m)\u001b[0m\u001b[0;34m)\u001b[0m \u001b[0;34m*\u001b[0m \u001b[0;36m100\u001b[0m\u001b[0;34m\u001b[0m\u001b[0;34m\u001b[0m\u001b[0m\n\u001b[1;32m      4\u001b[0m \u001b[0mmissing_df\u001b[0m \u001b[0;34m=\u001b[0m \u001b[0mpd\u001b[0m\u001b[0;34m.\u001b[0m\u001b[0mDataFrame\u001b[0m\u001b[0;34m(\u001b[0m\u001b[0;34m{\u001b[0m\u001b[0;34m\"missing_values\"\u001b[0m\u001b[0;34m:\u001b[0m \u001b[0mmissing\u001b[0m\u001b[0;34m,\u001b[0m \u001b[0;34m\"percent\"\u001b[0m\u001b[0;34m:\u001b[0m \u001b[0mmissing_percent\u001b[0m\u001b[0;34m}\u001b[0m\u001b[0;34m)\u001b[0m\u001b[0;34m\u001b[0m\u001b[0;34m\u001b[0m\u001b[0m\n\u001b[1;32m      5\u001b[0m \u001b[0mmissing_df\u001b[0m \u001b[0;34m=\u001b[0m \u001b[0mmissing_df\u001b[0m\u001b[0;34m[\u001b[0m\u001b[0mmissing_df\u001b[0m\u001b[0;34m[\u001b[0m\u001b[0;34m\"missing_values\"\u001b[0m\u001b[0;34m]\u001b[0m \u001b[0;34m>\u001b[0m \u001b[0;36m0\u001b[0m\u001b[0;34m]\u001b[0m\u001b[0;34m.\u001b[0m\u001b[0msort_values\u001b[0m\u001b[0;34m(\u001b[0m\u001b[0mby\u001b[0m\u001b[0;34m=\u001b[0m\u001b[0;34m\"missing_values\"\u001b[0m\u001b[0;34m,\u001b[0m \u001b[0mascending\u001b[0m\u001b[0;34m=\u001b[0m\u001b[0;32mFalse\u001b[0m\u001b[0;34m)\u001b[0m\u001b[0;34m\u001b[0m\u001b[0;34m\u001b[0m\u001b[0m\n",
            "\u001b[0;31mNameError\u001b[0m: name 'df' is not defined"
          ]
        }
      ]
    },
    {
      "cell_type": "code",
      "source": [
        "# Distribusi target\n",
        "print(df[\"loan_status\"].value_counts(normalize=True) * 100)\n",
        "\n",
        "# Visualisasi distribusi loan_status\n",
        "plt.figure(figsize=(8,4))\n",
        "sns.countplot(y=\"loan_status\", data=df, order=df[\"loan_status\"].value_counts().index)\n",
        "plt.title(\"Distribusi Loan Status\")\n",
        "plt.show()\n"
      ],
      "metadata": {
        "id": "DUZ-wL1BS2_A"
      },
      "execution_count": null,
      "outputs": []
    },
    {
      "cell_type": "code",
      "source": [
        "# Distribusi jumlah pinjaman (loan_amnt)\n",
        "plt.figure(figsize=(8,4))\n",
        "sns.histplot(df[\"loan_amnt\"], bins=30, kde=True, color=\"skyblue\")\n",
        "plt.title(\"Distribusi Jumlah Pinjaman (loan_amnt)\")\n",
        "plt.xlabel(\"Jumlah Pinjaman\")\n",
        "plt.show()\n",
        "\n",
        "# Distribusi pendapatan tahunan (annual_inc)\n",
        "plt.figure(figsize=(8,4))\n",
        "sns.histplot(df[\"annual_inc\"], bins=50, kde=True, color=\"green\")\n",
        "plt.title(\"Distribusi Pendapatan Tahunan (annual_inc)\")\n",
        "plt.xlabel(\"Pendapatan Tahunan\")\n",
        "plt.xlim(0, 200000)  # batasi agar tidak terlalu panjang\n",
        "plt.show()\n"
      ],
      "metadata": {
        "id": "baxO4-OlTB8q"
      },
      "execution_count": null,
      "outputs": []
    },
    {
      "cell_type": "code",
      "source": [
        "# Distribusi Grade\n",
        "plt.figure(figsize=(6,4))\n",
        "sns.countplot(x=\"grade\", data=df, order=df[\"grade\"].value_counts().index, palette=\"viridis\")\n",
        "plt.title(\"Distribusi Grade Pinjaman\")\n",
        "plt.show()\n",
        "\n",
        "# Distribusi Lama Pinjaman (term)\n",
        "plt.figure(figsize=(6,4))\n",
        "sns.countplot(x=\"term\", data=df, order=df[\"term\"].value_counts().index, palette=\"muted\")\n",
        "plt.title(\"Distribusi Lama Pinjaman (term)\")\n",
        "plt.show()\n"
      ],
      "metadata": {
        "id": "z3r7sf08TN1Q"
      },
      "execution_count": null,
      "outputs": []
    },
    {
      "cell_type": "code",
      "source": [
        "# Drop kolom ID yang tidak relevan\n",
        "drop_cols = [\"id\", \"member_id\", \"Unnamed: 0\"]\n",
        "df = df.drop(columns=drop_cols, errors=\"ignore\")\n",
        "\n",
        "# Transformasi target loan_status\n",
        "print(\"Sebelum transformasi:\", df[\"loan_status\"].value_counts())\n",
        "\n",
        "# Gunakan hanya Fully Paid & Charged Off\n",
        "df = df[df[\"loan_status\"].isin([\"Fully Paid\", \"Charged Off\"])]\n",
        "\n",
        "# Binary encoding: Fully Paid=0, Charged Off=1\n",
        "df[\"loan_status\"] = df[\"loan_status\"].map({\"Fully Paid\": 0, \"Charged Off\": 1})\n",
        "\n",
        "print(\"Sesudah transformasi:\", df[\"loan_status\"].value_counts())"
      ],
      "metadata": {
        "id": "Cl8YXjBMkP9t"
      },
      "execution_count": null,
      "outputs": []
    },
    {
      "cell_type": "code",
      "source": [
        "from sklearn.preprocessing import LabelEncoder\n",
        "\n",
        "# Drop kolom dengan missing > 50%\n",
        "missing_ratio = df.isnull().sum() / len(df)\n",
        "df = df.drop(columns=missing_ratio[missing_ratio > 0.5].index)\n",
        "\n",
        "# Imputasi missing values\n",
        "for col in df.columns:\n",
        "    if df[col].dtype in [\"float64\", \"int64\"]:\n",
        "        df[col] = df[col].fillna(df[col].median())\n",
        "    else:\n",
        "        df[col] = df[col].fillna(df[col].mode()[0])\n",
        "\n",
        "# Encoding variabel kategorikal\n",
        "categorical_cols = df.select_dtypes(include=[\"object\"]).columns\n",
        "le = LabelEncoder()\n",
        "for col in categorical_cols:\n",
        "    df[col] = le.fit_transform(df[col])"
      ],
      "metadata": {
        "id": "ripLOdI3kRgF"
      },
      "execution_count": null,
      "outputs": []
    },
    {
      "cell_type": "code",
      "source": [
        "from sklearn.preprocessing import StandardScaler\n",
        "import numpy as np\n",
        "\n",
        "# Log transform annual_inc untuk mengurangi outlier\n",
        "df[\"annual_inc_log\"] = np.log1p(df[\"annual_inc\"])\n",
        "\n",
        "# Buat fitur baru: rasio installment terhadap income\n",
        "df[\"installment_to_income\"] = df[\"installment\"] / (df[\"annual_inc\"] + 1)\n",
        "\n",
        "# Scaling fitur numerik (penting untuk Logistic Regression)\n",
        "numeric_cols = df.select_dtypes(include=[\"float64\", \"int64\"]).columns.drop(\"loan_status\")\n",
        "scaler = StandardScaler()\n",
        "df[numeric_cols] = scaler.fit_transform(df[numeric_cols])\n",
        "\n",
        "print(\"Dataset siap dipakai modelling:\", df.shape)\n"
      ],
      "metadata": {
        "id": "FwkVIyKzkRzZ"
      },
      "execution_count": null,
      "outputs": []
    },
    {
      "cell_type": "code",
      "source": [
        "plt.figure(figsize=(12,5))\n",
        "\n",
        "# Sebelum log transform\n",
        "plt.subplot(1,2,1)\n",
        "sns.histplot(df[\"annual_inc\"], bins=50, kde=True, color=\"orange\")\n",
        "plt.title(\"Distribusi annual_inc (sebelum log transform)\")\n",
        "plt.xlabel(\"Pendapatan Tahunan\")\n",
        "\n",
        "# Sesudah log transform\n",
        "plt.subplot(1,2,2)\n",
        "sns.histplot(df[\"annual_inc_log\"], bins=50, kde=True, color=\"green\")\n",
        "plt.title(\"Distribusi annual_inc_log (sesudah log transform)\")\n",
        "plt.xlabel(\"Log(Pendapatan Tahunan)\")\n",
        "\n",
        "plt.tight_layout()\n",
        "plt.show()\n"
      ],
      "metadata": {
        "id": "j4yk5m1cvFxQ"
      },
      "execution_count": null,
      "outputs": []
    },
    {
      "cell_type": "code",
      "source": [
        "plt.figure(figsize=(6,5))\n",
        "sns.boxplot(x=\"loan_status\", y=\"installment_to_income\", data=df)\n",
        "plt.title(\"Installment to Income Ratio berdasarkan Loan Status\")\n",
        "plt.xlabel(\"Loan Status (0=Fully Paid, 1=Charged Off)\")\n",
        "plt.ylabel(\"Installment / Income\")\n",
        "plt.show()\n"
      ],
      "metadata": {
        "id": "gta7HNtWvLkl"
      },
      "execution_count": null,
      "outputs": []
    },
    {
      "cell_type": "code",
      "source": [
        "plt.figure(figsize=(6,4))\n",
        "sns.countplot(x=\"loan_status\", data=df, palette=\"Set2\")\n",
        "plt.title(\"Distribusi Target Setelah Transformasi\")\n",
        "plt.xlabel(\"Loan Status (0 = Fully Paid, 1 = Charged Off)\")\n",
        "plt.ylabel(\"Jumlah\")\n",
        "plt.show()\n"
      ],
      "metadata": {
        "id": "LG2lAavlyuO3"
      },
      "execution_count": null,
      "outputs": []
    },
    {
      "cell_type": "code",
      "source": [
        "import matplotlib.pyplot as plt\n",
        "import seaborn as sns\n",
        "\n",
        "# Pilih kolom numerik\n",
        "numeric_df = df.select_dtypes(include=['float64', 'int64'])\n",
        "\n",
        "# Hitung korelasi\n",
        "corr = numeric_df.corr()\n",
        "\n",
        "# Heatmap\n",
        "plt.figure(figsize=(12,8))\n",
        "sns.heatmap(corr, cmap=\"coolwarm\", center=0)\n",
        "plt.title(\"Heatmap Korelasi Fitur Numerik\")\n",
        "plt.show()\n"
      ],
      "metadata": {
        "id": "PuaAO32qBk6l"
      },
      "execution_count": null,
      "outputs": []
    },
    {
      "cell_type": "code",
      "source": [
        "# Distribusi tingkat bunga (int_rate)\n",
        "plt.figure(figsize=(6,4))\n",
        "sns.histplot(df[\"int_rate\"], bins=30, kde=True, color=\"purple\")\n",
        "plt.title(\"Distribusi Tingkat Bunga (int_rate)\")\n",
        "plt.xlabel(\"Interest Rate (%)\")\n",
        "plt.show()\n",
        "\n",
        "# Distribusi Debt-to-Income Ratio (dti)\n",
        "plt.figure(figsize=(6,4))\n",
        "sns.histplot(df[\"dti\"], bins=30, kde=True, color=\"orange\")\n",
        "plt.title(\"Distribusi Debt-to-Income Ratio (dti)\")\n",
        "plt.xlabel(\"Debt-to-Income Ratio\")\n",
        "plt.show()\n"
      ],
      "metadata": {
        "id": "IFgEvvBFBntg"
      },
      "execution_count": null,
      "outputs": []
    },
    {
      "cell_type": "code",
      "source": [
        "# Hubungan jumlah pinjaman dan bunga\n",
        "plt.figure(figsize=(6,4))\n",
        "sns.scatterplot(x=\"loan_amnt\", y=\"int_rate\", data=df, alpha=0.3)\n",
        "plt.title(\"Hubungan Jumlah Pinjaman dan Tingkat Bunga\")\n",
        "plt.xlabel(\"Loan Amount\")\n",
        "plt.ylabel(\"Interest Rate (%)\")\n",
        "plt.show()\n",
        "\n",
        "# Tingkat bunga berdasarkan grade\n",
        "plt.figure(figsize=(17,12))\n",
        "sns.boxplot(x=\"grade\", y=\"int_rate\", data=df, order=sorted(df[\"grade\"].dropna().unique()))\n",
        "plt.title(\"Tingkat Bunga berdasarkan Grade\")\n",
        "plt.show()"
      ],
      "metadata": {
        "id": "yORFVXKEBk9s"
      },
      "execution_count": null,
      "outputs": []
    },
    {
      "cell_type": "code",
      "source": [
        "plt.figure(figsize=(6,4))\n",
        "sns.boxplot(x=\"loan_status\", y=\"int_rate\", data=df, palette=\"Set2\")\n",
        "plt.title(\"Interest Rate vs Loan Status\")\n",
        "plt.xlabel(\"Loan Status (0=Fully Paid, 1=Charged Off)\")\n",
        "plt.ylabel(\"Interest Rate (%)\")\n",
        "plt.show()\n",
        "\n",
        "plt.figure(figsize=(16,5))\n",
        "sns.countplot(x=\"grade\", hue=\"loan_status\", data=df, palette=\"coolwarm\")\n",
        "plt.title(\"Distribusi Loan Status berdasarkan Grade\")\n",
        "plt.xlabel(\"Loan Grade\")\n",
        "plt.ylabel(\"Jumlah Pinjaman\")\n",
        "plt.show()"
      ],
      "metadata": {
        "id": "MDIEFyKMfSZf"
      },
      "execution_count": null,
      "outputs": []
    },
    {
      "cell_type": "code",
      "source": [
        "# Drop kolom dengan missing >50%\n",
        "missing_ratio = df.isnull().sum() / len(df)\n",
        "df = df.drop(columns=missing_ratio[missing_ratio > 0.5].index)\n",
        "\n",
        "# Imputasi missing values\n",
        "for col in df.columns:\n",
        "    if df[col].dtype in [\"float64\", \"int64\"]:\n",
        "        df[col] = df[col].fillna(df[col].median())\n",
        "    else:\n",
        "        df[col] = df[col].fillna(df[col].mode()[0])\n",
        "\n",
        "# Transformasi log untuk annual_inc\n",
        "df[\"annual_inc_log\"] = np.log1p(df[\"annual_inc\"])\n",
        "\n",
        "# Encoding kategorikal\n",
        "categorical_cols = df.select_dtypes(include=[\"object\"]).columns\n",
        "le = LabelEncoder()\n",
        "for col in categorical_cols:\n",
        "    df[col] = le.fit_transform(df[col])\n",
        "\n",
        "# Scaling numerik\n",
        "numeric_cols = df.select_dtypes(include=[\"float64\", \"int64\"]).columns.drop(\"loan_status\")\n",
        "scaler = StandardScaler()\n",
        "df[numeric_cols] = scaler.fit_transform(df[numeric_cols])"
      ],
      "metadata": {
        "id": "8O1VAGTl63jX"
      },
      "execution_count": null,
      "outputs": []
    },
    {
      "cell_type": "code",
      "source": [
        "plt.figure(figsize=(12,5))\n",
        "\n",
        "# Distribusi sebelum log transform\n",
        "plt.subplot(1,2,1)\n",
        "sns.histplot(df[\"annual_inc\"], bins=50, kde=True, color=\"orange\")\n",
        "plt.title(\"Distribusi Annual Income (Sebelum Log Transform)\")\n",
        "plt.xlabel(\"Annual Income\")\n",
        "plt.ylabel(\"Frekuensi\")\n",
        "\n",
        "# Distribusi sesudah log transform\n",
        "plt.subplot(1,2,2)\n",
        "sns.histplot(df[\"annual_inc_log\"], bins=50, kde=True, color=\"green\")\n",
        "plt.title(\"Distribusi Annual Income (Sesudah Log Transform)\")\n",
        "plt.xlabel(\"Log(Annual Income)\")\n",
        "plt.ylabel(\"Frekuensi\")\n",
        "\n",
        "plt.tight_layout()\n",
        "plt.show()\n"
      ],
      "metadata": {
        "id": "g07qSwd48VzQ"
      },
      "execution_count": null,
      "outputs": []
    },
    {
      "cell_type": "code",
      "source": [
        "from sklearn.model_selection import train_test_split\n",
        "\n",
        "# Pisahkan fitur dan target\n",
        "X = df.drop(columns=[\"loan_status\"])\n",
        "y = df[\"loan_status\"]\n",
        "\n",
        "# Split dengan stratifikasi agar distribusi target tetap seimbang\n",
        "X_train, X_test, y_train, y_test = train_test_split(\n",
        "    X, y, test_size=0.2, random_state=42, stratify=y\n",
        ")\n",
        "\n",
        "# Pastikan tidak ada NaN di train dan test\n",
        "X_train = X_train.fillna(0)\n",
        "X_test = X_test.fillna(0)\n",
        "\n",
        "print(\"Ukuran Dataset:\")\n",
        "print(\"Train set:\", X_train.shape, \"Target train:\", y_train.shape)\n",
        "print(\"Test set :\", X_test.shape, \"Target test :\", y_test.shape)\n",
        "\n",
        "# Tambahkan distribusi target agar lebih jelas\n",
        "print(\"\\nDistribusi Target di Train Set:\")\n",
        "print(y_train.value_counts(normalize=True))\n",
        "\n",
        "print(\"\\nDistribusi Target di Test Set:\")\n",
        "print(y_test.value_counts(normalize=True))"
      ],
      "metadata": {
        "id": "JlCpafzT8WrD"
      },
      "execution_count": null,
      "outputs": []
    },
    {
      "cell_type": "code",
      "source": [
        "from sklearn.linear_model import LogisticRegression\n",
        "from sklearn.metrics import classification_report, roc_auc_score\n",
        "\n",
        "log_reg = LogisticRegression(\n",
        "    max_iter=1000,\n",
        "    class_weight=\"balanced\",\n",
        "    solver=\"liblinear\",  # solver lebih stabil\n",
        "    random_state=42\n",
        ")\n",
        "log_reg.fit(X_train, y_train)\n",
        "\n",
        "y_pred_log = log_reg.predict(X_test)\n",
        "y_prob_log = log_reg.predict_proba(X_test)[:,1]\n",
        "\n",
        "print(\"=== Logistic Regression ===\")\n",
        "print(classification_report(y_test, y_pred_log))\n",
        "print(\"ROC-AUC: {:.3f}\".format(roc_auc_score(y_test, y_prob_log)))"
      ],
      "metadata": {
        "id": "qIHogM_ve0Ux"
      },
      "execution_count": null,
      "outputs": []
    },
    {
      "cell_type": "code",
      "source": [
        "from sklearn.ensemble import RandomForestClassifier\n",
        "\n",
        "rf = RandomForestClassifier(\n",
        "    n_estimators=200,\n",
        "    max_depth=10,\n",
        "    class_weight=\"balanced\",\n",
        "    random_state=42,\n",
        "    n_jobs=-1\n",
        ")\n",
        "rf.fit(X_train, y_train)\n",
        "\n",
        "y_pred_rf = rf.predict(X_test)\n",
        "y_prob_rf = rf.predict_proba(X_test)[:,1]\n",
        "\n",
        "print(\"\\n=== Random Forest ===\")\n",
        "print(classification_report(y_test, y_pred_rf))\n",
        "print(\"ROC-AUC: {:.3f}\".format(roc_auc_score(y_test, y_prob_rf)))"
      ],
      "metadata": {
        "id": "7YvhXXzNgYU2"
      },
      "execution_count": null,
      "outputs": []
    },
    {
      "cell_type": "code",
      "source": [
        "import seaborn as sns\n",
        "import matplotlib.pyplot as plt\n",
        "from sklearn.metrics import confusion_matrix\n",
        "\n",
        "# Confusion Matrix Random Forest\n",
        "cm_rf = confusion_matrix(y_test, y_pred_rf)\n",
        "\n",
        "plt.figure(figsize=(6,5))\n",
        "sns.heatmap(\n",
        "    cm_rf, annot=True, fmt=\"d\", cmap=\"Blues\",\n",
        "    xticklabels=[\"Fully Paid (0)\", \"Charged Off (1)\"],\n",
        "    yticklabels=[\"Fully Paid (0)\", \"Charged Off (1)\"],\n",
        "    annot_kws={\"size\":14}\n",
        ")\n",
        "plt.title(\"Confusion Matrix - Random Forest\")\n",
        "plt.xlabel(\"Predicted\")\n",
        "plt.ylabel(\"Actual\")\n",
        "plt.show()"
      ],
      "metadata": {
        "id": "_BaDjvU0iqaN"
      },
      "execution_count": null,
      "outputs": []
    },
    {
      "cell_type": "markdown",
      "source": [
        "Sekian dan Terima kasih :>"
      ],
      "metadata": {
        "id": "OumpacZBtnmb"
      }
    }
  ]
}